{
 "cells": [
  {
   "cell_type": "code",
   "execution_count": 1,
   "metadata": {
    "collapsed": true
   },
   "outputs": [],
   "source": [
    "import pandas as pd\n",
    "import matplotlib.pyplot as plt\n",
    "%matplotlib inline"
   ]
  },
  {
   "cell_type": "code",
   "execution_count": 2,
   "metadata": {
    "collapsed": false
   },
   "outputs": [],
   "source": [
    "df = pd.read_excel('H-1B_Disclosure_Data_FY16.xlsx', converters={'NAIC_CODE':str})"
   ]
  },
  {
   "cell_type": "code",
   "execution_count": 3,
   "metadata": {
    "collapsed": false,
    "scrolled": false
   },
   "outputs": [
    {
     "data": {
      "text/html": [
       "<div>\n",
       "<table border=\"1\" class=\"dataframe\">\n",
       "  <thead>\n",
       "    <tr style=\"text-align: right;\">\n",
       "      <th></th>\n",
       "      <th>CASE_NUMBER</th>\n",
       "      <th>CASE_STATUS</th>\n",
       "      <th>CASE_SUBMITTED</th>\n",
       "      <th>DECISION_DATE</th>\n",
       "      <th>VISA_CLASS</th>\n",
       "      <th>EMPLOYMENT_START_DATE</th>\n",
       "      <th>EMPLOYMENT_END_DATE</th>\n",
       "      <th>EMPLOYER_NAME</th>\n",
       "      <th>EMPLOYER_ADDRESS</th>\n",
       "      <th>EMPLOYER_CITY</th>\n",
       "      <th>...</th>\n",
       "      <th>WAGE_RATE_OF_PAY_FROM</th>\n",
       "      <th>WAGE_RATE_OF_PAY_TO</th>\n",
       "      <th>WAGE_UNIT_OF_PAY</th>\n",
       "      <th>H-1B_DEPENDENT</th>\n",
       "      <th>WILLFUL_VIOLATOR</th>\n",
       "      <th>WORKSITE_CITY</th>\n",
       "      <th>WORKSITE_COUNTY</th>\n",
       "      <th>WORKSITE_STATE</th>\n",
       "      <th>WORKSITE_POSTAL_CODE</th>\n",
       "      <th>ORIGINAL_CERT_DATE</th>\n",
       "    </tr>\n",
       "  </thead>\n",
       "  <tbody>\n",
       "    <tr>\n",
       "      <th>0</th>\n",
       "      <td>I-200-12240-490687</td>\n",
       "      <td>CERTIFIED-WITHDRAWN</td>\n",
       "      <td>2012-08-27</td>\n",
       "      <td>2015-10-16</td>\n",
       "      <td>H-1B</td>\n",
       "      <td>2013-02-25</td>\n",
       "      <td>2016-02-24</td>\n",
       "      <td>UNIVERSITY OF MICHIGAN</td>\n",
       "      <td>PIERPONT COMMONS, INTERNATIONAL CENTER</td>\n",
       "      <td>ANN ARBOR</td>\n",
       "      <td>...</td>\n",
       "      <td>41000.00</td>\n",
       "      <td>0.0</td>\n",
       "      <td>Year</td>\n",
       "      <td>N</td>\n",
       "      <td>N</td>\n",
       "      <td>ANN ARBOR</td>\n",
       "      <td>WASHTENAW</td>\n",
       "      <td>MI</td>\n",
       "      <td>48109</td>\n",
       "      <td>2012-08-31</td>\n",
       "    </tr>\n",
       "    <tr>\n",
       "      <th>1</th>\n",
       "      <td>I-200-13053-847481</td>\n",
       "      <td>CERTIFIED-WITHDRAWN</td>\n",
       "      <td>2013-02-25</td>\n",
       "      <td>2016-01-13</td>\n",
       "      <td>H-1B</td>\n",
       "      <td>2013-08-24</td>\n",
       "      <td>2016-08-23</td>\n",
       "      <td>GOODMAN NETWORKS, INC.</td>\n",
       "      <td>6400 INTERNATIONAL PARKWAY, SUITE 1000</td>\n",
       "      <td>PLANO</td>\n",
       "      <td>...</td>\n",
       "      <td>400000.00</td>\n",
       "      <td>0.0</td>\n",
       "      <td>Year</td>\n",
       "      <td>N</td>\n",
       "      <td>N</td>\n",
       "      <td>PLANO</td>\n",
       "      <td>COLLIN</td>\n",
       "      <td>TX</td>\n",
       "      <td>75093</td>\n",
       "      <td>2013-03-01</td>\n",
       "    </tr>\n",
       "    <tr>\n",
       "      <th>2</th>\n",
       "      <td>I-200-13088-054259</td>\n",
       "      <td>CERTIFIED-WITHDRAWN</td>\n",
       "      <td>2013-04-23</td>\n",
       "      <td>2015-12-10</td>\n",
       "      <td>H-1B</td>\n",
       "      <td>2013-04-29</td>\n",
       "      <td>2016-04-28</td>\n",
       "      <td>PORTS AMERICA GROUP, INC.</td>\n",
       "      <td>525 WASHINGTON BOULEVARD</td>\n",
       "      <td>JERSEY CITY</td>\n",
       "      <td>...</td>\n",
       "      <td>264000.00</td>\n",
       "      <td>451100.0</td>\n",
       "      <td>Year</td>\n",
       "      <td>N</td>\n",
       "      <td>N</td>\n",
       "      <td>JERSEY CITY</td>\n",
       "      <td>HUDSON</td>\n",
       "      <td>NJ</td>\n",
       "      <td>07310</td>\n",
       "      <td>2013-04-29</td>\n",
       "    </tr>\n",
       "    <tr>\n",
       "      <th>3</th>\n",
       "      <td>I-200-13144-034110</td>\n",
       "      <td>CERTIFIED-WITHDRAWN</td>\n",
       "      <td>2013-05-24</td>\n",
       "      <td>2016-01-19</td>\n",
       "      <td>H-1B</td>\n",
       "      <td>2013-10-01</td>\n",
       "      <td>2016-09-30</td>\n",
       "      <td>GATES CORPORATION, A WHOLLY-OWNED SUBSIDIARY O...</td>\n",
       "      <td>1551 WEWATTA STREET</td>\n",
       "      <td>DENVER</td>\n",
       "      <td>...</td>\n",
       "      <td>220314.00</td>\n",
       "      <td>600000.0</td>\n",
       "      <td>Year</td>\n",
       "      <td>N</td>\n",
       "      <td>N</td>\n",
       "      <td>DENVER</td>\n",
       "      <td>DENVER</td>\n",
       "      <td>CO</td>\n",
       "      <td>80202</td>\n",
       "      <td>2013-05-29</td>\n",
       "    </tr>\n",
       "    <tr>\n",
       "      <th>4</th>\n",
       "      <td>I-200-13172-415116</td>\n",
       "      <td>WITHDRAWN</td>\n",
       "      <td>2013-06-26</td>\n",
       "      <td>2016-05-20</td>\n",
       "      <td>H-1B</td>\n",
       "      <td>2013-10-18</td>\n",
       "      <td>2016-10-17</td>\n",
       "      <td>PEABODY INVESTMENTS CORP.</td>\n",
       "      <td>701 MARKET STREET</td>\n",
       "      <td>ST. LOUIS</td>\n",
       "      <td>...</td>\n",
       "      <td>171.63</td>\n",
       "      <td>0.0</td>\n",
       "      <td>Hour</td>\n",
       "      <td>N</td>\n",
       "      <td>N</td>\n",
       "      <td>ST. LOUIS</td>\n",
       "      <td>ST. LOUIS</td>\n",
       "      <td>MO</td>\n",
       "      <td>63101</td>\n",
       "      <td>NaT</td>\n",
       "    </tr>\n",
       "  </tbody>\n",
       "</table>\n",
       "<p>5 rows × 40 columns</p>\n",
       "</div>"
      ],
      "text/plain": [
       "          CASE_NUMBER          CASE_STATUS CASE_SUBMITTED DECISION_DATE  \\\n",
       "0  I-200-12240-490687  CERTIFIED-WITHDRAWN     2012-08-27    2015-10-16   \n",
       "1  I-200-13053-847481  CERTIFIED-WITHDRAWN     2013-02-25    2016-01-13   \n",
       "2  I-200-13088-054259  CERTIFIED-WITHDRAWN     2013-04-23    2015-12-10   \n",
       "3  I-200-13144-034110  CERTIFIED-WITHDRAWN     2013-05-24    2016-01-19   \n",
       "4  I-200-13172-415116            WITHDRAWN     2013-06-26    2016-05-20   \n",
       "\n",
       "  VISA_CLASS EMPLOYMENT_START_DATE EMPLOYMENT_END_DATE  \\\n",
       "0       H-1B            2013-02-25          2016-02-24   \n",
       "1       H-1B            2013-08-24          2016-08-23   \n",
       "2       H-1B            2013-04-29          2016-04-28   \n",
       "3       H-1B            2013-10-01          2016-09-30   \n",
       "4       H-1B            2013-10-18          2016-10-17   \n",
       "\n",
       "                                       EMPLOYER_NAME  \\\n",
       "0                             UNIVERSITY OF MICHIGAN   \n",
       "1                             GOODMAN NETWORKS, INC.   \n",
       "2                          PORTS AMERICA GROUP, INC.   \n",
       "3  GATES CORPORATION, A WHOLLY-OWNED SUBSIDIARY O...   \n",
       "4                          PEABODY INVESTMENTS CORP.   \n",
       "\n",
       "                         EMPLOYER_ADDRESS EMPLOYER_CITY        ...          \\\n",
       "0  PIERPONT COMMONS, INTERNATIONAL CENTER     ANN ARBOR        ...           \n",
       "1  6400 INTERNATIONAL PARKWAY, SUITE 1000         PLANO        ...           \n",
       "2                525 WASHINGTON BOULEVARD   JERSEY CITY        ...           \n",
       "3                     1551 WEWATTA STREET        DENVER        ...           \n",
       "4                       701 MARKET STREET     ST. LOUIS        ...           \n",
       "\n",
       "  WAGE_RATE_OF_PAY_FROM WAGE_RATE_OF_PAY_TO WAGE_UNIT_OF_PAY H-1B_DEPENDENT  \\\n",
       "0              41000.00                 0.0             Year              N   \n",
       "1             400000.00                 0.0             Year              N   \n",
       "2             264000.00            451100.0             Year              N   \n",
       "3             220314.00            600000.0             Year              N   \n",
       "4                171.63                 0.0             Hour              N   \n",
       "\n",
       "  WILLFUL_VIOLATOR WORKSITE_CITY WORKSITE_COUNTY WORKSITE_STATE  \\\n",
       "0                N     ANN ARBOR       WASHTENAW             MI   \n",
       "1                N         PLANO          COLLIN             TX   \n",
       "2                N   JERSEY CITY          HUDSON             NJ   \n",
       "3                N        DENVER          DENVER             CO   \n",
       "4                N     ST. LOUIS       ST. LOUIS             MO   \n",
       "\n",
       "  WORKSITE_POSTAL_CODE ORIGINAL_CERT_DATE  \n",
       "0                48109         2012-08-31  \n",
       "1                75093         2013-03-01  \n",
       "2                07310         2013-04-29  \n",
       "3                80202         2013-05-29  \n",
       "4                63101                NaT  \n",
       "\n",
       "[5 rows x 40 columns]"
      ]
     },
     "execution_count": 3,
     "metadata": {},
     "output_type": "execute_result"
    }
   ],
   "source": [
    "df.head()"
   ]
  },
  {
   "cell_type": "code",
   "execution_count": 4,
   "metadata": {
    "collapsed": false
   },
   "outputs": [
    {
     "data": {
      "text/plain": [
       "Index([u'CASE_NUMBER', u'CASE_STATUS', u'CASE_SUBMITTED', u'DECISION_DATE',\n",
       "       u'VISA_CLASS', u'EMPLOYMENT_START_DATE', u'EMPLOYMENT_END_DATE',\n",
       "       u'EMPLOYER_NAME', u'EMPLOYER_ADDRESS', u'EMPLOYER_CITY',\n",
       "       u'EMPLOYER_STATE', u'EMPLOYER_POSTAL_CODE', u'EMPLOYER_COUNTRY',\n",
       "       u'EMPLOYER_PROVINCE', u'EMPLOYER_PHONE', u'EMPLOYER_PHONE_EXT',\n",
       "       u'AGENT_ATTORNEY_NAME', u'AGENT_ATTORNEY_CITY', u'AGENT_ATTORNEY_STATE',\n",
       "       u'JOB_TITLE', u'SOC_CODE', u'SOC_NAME', u'NAIC_CODE', u'TOTAL_WORKERS',\n",
       "       u'FULL_TIME_POSITION', u'PREVAILING_WAGE', u'PW_UNIT_OF_PAY',\n",
       "       u'PW_WAGE_SOURCE', u'PW_SOURCE_YEAR', u'PW_SOURCE_OTHER',\n",
       "       u'WAGE_RATE_OF_PAY_FROM', u'WAGE_RATE_OF_PAY_TO', u'WAGE_UNIT_OF_PAY',\n",
       "       u'H-1B_DEPENDENT', u'WILLFUL_VIOLATOR', u'WORKSITE_CITY',\n",
       "       u'WORKSITE_COUNTY', u'WORKSITE_STATE', u'WORKSITE_POSTAL_CODE',\n",
       "       u'ORIGINAL_CERT_DATE'],\n",
       "      dtype='object')"
      ]
     },
     "execution_count": 4,
     "metadata": {},
     "output_type": "execute_result"
    }
   ],
   "source": [
    "df.columns"
   ]
  },
  {
   "cell_type": "code",
   "execution_count": 5,
   "metadata": {
    "collapsed": false,
    "scrolled": true
   },
   "outputs": [
    {
     "name": "stdout",
     "output_type": "stream",
     "text": [
      "<class 'pandas.core.frame.DataFrame'>\n",
      "RangeIndex: 647852 entries, 0 to 647851\n",
      "Data columns (total 40 columns):\n",
      "CASE_NUMBER              647852 non-null object\n",
      "CASE_STATUS              647852 non-null object\n",
      "CASE_SUBMITTED           647852 non-null datetime64[ns]\n",
      "DECISION_DATE            647852 non-null datetime64[ns]\n",
      "VISA_CLASS               647852 non-null object\n",
      "EMPLOYMENT_START_DATE    647835 non-null datetime64[ns]\n",
      "EMPLOYMENT_END_DATE      647827 non-null datetime64[ns]\n",
      "EMPLOYER_NAME            647837 non-null object\n",
      "EMPLOYER_ADDRESS         647847 non-null object\n",
      "EMPLOYER_CITY            647846 non-null object\n",
      "EMPLOYER_STATE           647818 non-null object\n",
      "EMPLOYER_POSTAL_CODE     647831 non-null object\n",
      "EMPLOYER_COUNTRY         647849 non-null object\n",
      "EMPLOYER_PROVINCE        7672 non-null object\n",
      "EMPLOYER_PHONE           647849 non-null object\n",
      "EMPLOYER_PHONE_EXT       34262 non-null object\n",
      "AGENT_ATTORNEY_NAME      647852 non-null object\n",
      "AGENT_ATTORNEY_CITY      406318 non-null object\n",
      "AGENT_ATTORNEY_STATE     395790 non-null object\n",
      "JOB_TITLE                647845 non-null object\n",
      "SOC_CODE                 647844 non-null object\n",
      "SOC_NAME                 647844 non-null object\n",
      "NAIC_CODE                647847 non-null object\n",
      "TOTAL_WORKERS            647852 non-null int64\n",
      "FULL_TIME_POSITION       0 non-null float64\n",
      "PREVAILING_WAGE          647851 non-null float64\n",
      "PW_UNIT_OF_PAY           647803 non-null object\n",
      "PW_WAGE_SOURCE           647799 non-null object\n",
      "PW_SOURCE_YEAR           647791 non-null float64\n",
      "PW_SOURCE_OTHER          639665 non-null object\n",
      "WAGE_RATE_OF_PAY_FROM    647852 non-null float64\n",
      "WAGE_RATE_OF_PAY_TO      647851 non-null float64\n",
      "WAGE_UNIT_OF_PAY         647842 non-null object\n",
      "H-1B_DEPENDENT           634580 non-null object\n",
      "WILLFUL_VIOLATOR         634579 non-null object\n",
      "WORKSITE_CITY            647834 non-null object\n",
      "WORKSITE_COUNTY          646508 non-null object\n",
      "WORKSITE_STATE           647842 non-null object\n",
      "WORKSITE_POSTAL_CODE     647820 non-null object\n",
      "ORIGINAL_CERT_DATE       47092 non-null datetime64[ns]\n",
      "dtypes: datetime64[ns](5), float64(5), int64(1), object(29)\n",
      "memory usage: 197.7+ MB\n"
     ]
    }
   ],
   "source": [
    "df.info()"
   ]
  },
  {
   "cell_type": "code",
   "execution_count": 6,
   "metadata": {
    "collapsed": false
   },
   "outputs": [
    {
     "data": {
      "text/plain": [
       "1313234"
      ]
     },
     "execution_count": 6,
     "metadata": {},
     "output_type": "execute_result"
    }
   ],
   "source": [
    "df['TOTAL_WORKERS'].sum()"
   ]
  },
  {
   "cell_type": "code",
   "execution_count": 7,
   "metadata": {
    "collapsed": true
   },
   "outputs": [],
   "source": [
    "nj_emp = df[df['EMPLOYER_STATE'] == 'NJ']"
   ]
  },
  {
   "cell_type": "code",
   "execution_count": 8,
   "metadata": {
    "collapsed": false,
    "scrolled": true
   },
   "outputs": [
    {
     "name": "stderr",
     "output_type": "stream",
     "text": [
      "/Users/epetenko/miniconda2/lib/python2.7/site-packages/numpy/lib/function_base.py:3834: RuntimeWarning: Invalid value encountered in percentile\n",
      "  RuntimeWarning)\n"
     ]
    },
    {
     "data": {
      "text/html": [
       "<div>\n",
       "<table border=\"1\" class=\"dataframe\">\n",
       "  <thead>\n",
       "    <tr style=\"text-align: right;\">\n",
       "      <th></th>\n",
       "      <th>TOTAL_WORKERS</th>\n",
       "      <th>FULL_TIME_POSITION</th>\n",
       "      <th>PREVAILING_WAGE</th>\n",
       "      <th>PW_SOURCE_YEAR</th>\n",
       "      <th>WAGE_RATE_OF_PAY_FROM</th>\n",
       "      <th>WAGE_RATE_OF_PAY_TO</th>\n",
       "    </tr>\n",
       "  </thead>\n",
       "  <tbody>\n",
       "    <tr>\n",
       "      <th>count</th>\n",
       "      <td>87718.000000</td>\n",
       "      <td>0.0</td>\n",
       "      <td>87718.000000</td>\n",
       "      <td>87715.000000</td>\n",
       "      <td>87718.000000</td>\n",
       "      <td>87718.000000</td>\n",
       "    </tr>\n",
       "    <tr>\n",
       "      <th>mean</th>\n",
       "      <td>1.724435</td>\n",
       "      <td>NaN</td>\n",
       "      <td>64949.707522</td>\n",
       "      <td>2015.215106</td>\n",
       "      <td>71991.097714</td>\n",
       "      <td>8899.026541</td>\n",
       "    </tr>\n",
       "    <tr>\n",
       "      <th>std</th>\n",
       "      <td>2.960747</td>\n",
       "      <td>NaN</td>\n",
       "      <td>20647.783752</td>\n",
       "      <td>6.825535</td>\n",
       "      <td>26144.628017</td>\n",
       "      <td>29558.289252</td>\n",
       "    </tr>\n",
       "    <tr>\n",
       "      <th>min</th>\n",
       "      <td>0.000000</td>\n",
       "      <td>NaN</td>\n",
       "      <td>0.000000</td>\n",
       "      <td>0.000000</td>\n",
       "      <td>0.000000</td>\n",
       "      <td>0.000000</td>\n",
       "    </tr>\n",
       "    <tr>\n",
       "      <th>25%</th>\n",
       "      <td>1.000000</td>\n",
       "      <td>NaN</td>\n",
       "      <td>55578.000000</td>\n",
       "      <td>NaN</td>\n",
       "      <td>60000.000000</td>\n",
       "      <td>0.000000</td>\n",
       "    </tr>\n",
       "    <tr>\n",
       "      <th>50%</th>\n",
       "      <td>1.000000</td>\n",
       "      <td>NaN</td>\n",
       "      <td>63814.000000</td>\n",
       "      <td>NaN</td>\n",
       "      <td>68037.000000</td>\n",
       "      <td>0.000000</td>\n",
       "    </tr>\n",
       "    <tr>\n",
       "      <th>75%</th>\n",
       "      <td>1.000000</td>\n",
       "      <td>NaN</td>\n",
       "      <td>74006.000000</td>\n",
       "      <td>NaN</td>\n",
       "      <td>78500.000000</td>\n",
       "      <td>0.000000</td>\n",
       "    </tr>\n",
       "    <tr>\n",
       "      <th>max</th>\n",
       "      <td>72.000000</td>\n",
       "      <td>NaN</td>\n",
       "      <td>769600.000000</td>\n",
       "      <td>2016.000000</td>\n",
       "      <td>985000.000000</td>\n",
       "      <td>850000.000000</td>\n",
       "    </tr>\n",
       "  </tbody>\n",
       "</table>\n",
       "</div>"
      ],
      "text/plain": [
       "       TOTAL_WORKERS  FULL_TIME_POSITION  PREVAILING_WAGE  PW_SOURCE_YEAR  \\\n",
       "count   87718.000000                 0.0     87718.000000    87715.000000   \n",
       "mean        1.724435                 NaN     64949.707522     2015.215106   \n",
       "std         2.960747                 NaN     20647.783752        6.825535   \n",
       "min         0.000000                 NaN         0.000000        0.000000   \n",
       "25%         1.000000                 NaN     55578.000000             NaN   \n",
       "50%         1.000000                 NaN     63814.000000             NaN   \n",
       "75%         1.000000                 NaN     74006.000000             NaN   \n",
       "max        72.000000                 NaN    769600.000000     2016.000000   \n",
       "\n",
       "       WAGE_RATE_OF_PAY_FROM  WAGE_RATE_OF_PAY_TO  \n",
       "count           87718.000000         87718.000000  \n",
       "mean            71991.097714          8899.026541  \n",
       "std             26144.628017         29558.289252  \n",
       "min                 0.000000             0.000000  \n",
       "25%             60000.000000             0.000000  \n",
       "50%             68037.000000             0.000000  \n",
       "75%             78500.000000             0.000000  \n",
       "max            985000.000000        850000.000000  "
      ]
     },
     "execution_count": 8,
     "metadata": {},
     "output_type": "execute_result"
    }
   ],
   "source": [
    "nj_emp.describe()"
   ]
  },
  {
   "cell_type": "code",
   "execution_count": 9,
   "metadata": {
    "collapsed": false
   },
   "outputs": [
    {
     "data": {
      "text/plain": [
       "TOTAL_WORKERS            1.512640e+05\n",
       "FULL_TIME_POSITION                NaN\n",
       "PREVAILING_WAGE          5.697258e+09\n",
       "PW_SOURCE_YEAR           1.767646e+08\n",
       "WAGE_RATE_OF_PAY_FROM    6.314915e+09\n",
       "WAGE_RATE_OF_PAY_TO      7.806048e+08\n",
       "dtype: float64"
      ]
     },
     "execution_count": 9,
     "metadata": {},
     "output_type": "execute_result"
    }
   ],
   "source": [
    "nj_emp.sum()"
   ]
  },
  {
   "cell_type": "code",
   "execution_count": 10,
   "metadata": {
    "collapsed": true
   },
   "outputs": [],
   "source": [
    "from datetime import datetime"
   ]
  },
  {
   "cell_type": "code",
   "execution_count": 13,
   "metadata": {
    "collapsed": false
   },
   "outputs": [
    {
     "data": {
      "image/png": "[encoded data removed]",
      "text/plain": [
       "<matplotlib.figure.Figure at 0x11405afd0>"
      ]
     },
     "metadata": {},
     "output_type": "display_data"
    }
   ],
   "source": [
    "nj_emp[(nj_emp['CASE_SUBMITTED']>'2015-06-30')&(nj_emp['CASE_SUBMITTED']<'2016-06-30')].pivot_table(index='CASE_SUBMITTED', columns='CASE_STATUS', values='TOTAL_WORKERS', aggfunc=sum).plot(figsize=[15,10]);"
   ]
  },
  {
   "cell_type": "code",
   "execution_count": 12,
   "metadata": {
    "collapsed": false
   },
   "outputs": [
    {
     "data": {
      "text/plain": [
       "TOTAL_WORKERS            1.316830e+05\n",
       "FULL_TIME_POSITION                NaN\n",
       "PREVAILING_WAGE          4.723866e+09\n",
       "PW_SOURCE_YEAR           1.481284e+08\n",
       "WAGE_RATE_OF_PAY_FROM    5.216495e+09\n",
       "WAGE_RATE_OF_PAY_TO      6.164019e+08\n",
       "dtype: float64"
      ]
     },
     "execution_count": 12,
     "metadata": {},
     "output_type": "execute_result"
    }
   ],
   "source": [
    "nj_emp[(nj_emp['CASE_SUBMITTED']>'2015-09-30')&(nj_emp['CASE_SUBMITTED']<'2016-06-30')].sum()"
   ]
  },
  {
   "cell_type": "code",
   "execution_count": null,
   "metadata": {
    "collapsed": false
   },
   "outputs": [],
   "source": [
    "nj_emp.groupby('CASE_STATUS').sum().iloc[:,0].sort_values(ascending=False)"
   ]
  },
  {
   "cell_type": "code",
   "execution_count": null,
   "metadata": {
    "collapsed": false
   },
   "outputs": [],
   "source": [
    "nj_work = df[df['WORKSITE_STATE'] == 'NJ']\n",
    "nj_work[(nj_work['CASE_SUBMITTED']>'2015-06-30')&(nj_emp['CASE_SUBMITTED']<'2016-06-30')].pivot_table(index='CASE_SUBMITTED', columns='CASE_STATUS', values='TOTAL_WORKERS', aggfunc=sum).plot(figsize=[15,10]);"
   ]
  },
  {
   "cell_type": "code",
   "execution_count": null,
   "metadata": {
    "collapsed": false
   },
   "outputs": [],
   "source": [
    "nj_work.groupby('CASE_STATUS').sum().iloc[:,0].sort_values(ascending=False)"
   ]
  },
  {
   "cell_type": "code",
   "execution_count": null,
   "metadata": {
    "collapsed": false
   },
   "outputs": [],
   "source": [
    "nj_work.groupby('WORKSITE_CITY').sum().iloc[:,0].sort_values(ascending=False).head()"
   ]
  },
  {
   "cell_type": "code",
   "execution_count": null,
   "metadata": {
    "collapsed": false
   },
   "outputs": [],
   "source": [
    "nj_emp.groupby('SOC_NAME').sum().iloc[:,0].sort_values(ascending=False).head(10).plot(kind='barh');"
   ]
  },
  {
   "cell_type": "code",
   "execution_count": null,
   "metadata": {
    "collapsed": false
   },
   "outputs": [],
   "source": [
    "nj_emp.groupby('NAIC_CODE').sum().iloc[:,0].sort_values(ascending=False).head(10).plot(kind='barh');"
   ]
  },
  {
   "cell_type": "code",
   "execution_count": null,
   "metadata": {
    "collapsed": false
   },
   "outputs": [],
   "source": [
    "nj_emp.groupby('WILLFUL_VIOLATOR').sum().iloc[:,0].sort_values(ascending=False).head(10)"
   ]
  },
  {
   "cell_type": "code",
   "execution_count": null,
   "metadata": {
    "collapsed": false
   },
   "outputs": [],
   "source": [
    "nj_emp[nj_emp['WILLFUL_VIOLATOR'] == 'Y']['EMPLOYER_NAME'].nunique()"
   ]
  }
 ],
 "metadata": {
  "kernelspec": {
   "display_name": "Python 2",
   "language": "python",
   "name": "python2"
  },
  "language_info": {
   "codemirror_mode": {
    "name": "ipython",
    "version": 2
   },
   "file_extension": ".py",
   "mimetype": "text/x-python",
   "name": "python",
   "nbconvert_exporter": "python",
   "pygments_lexer": "ipython2",
   "version": "2.7.12"
  }
 },
 "nbformat": 4,
 "nbformat_minor": 0
}
